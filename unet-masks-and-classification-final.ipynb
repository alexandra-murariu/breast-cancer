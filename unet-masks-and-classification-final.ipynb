{
 "cells": [
  {
   "cell_type": "code",
   "execution_count": 1,
   "id": "c62f9c72",
   "metadata": {
    "_cell_guid": "b1076dfc-b9ad-4769-8c92-a6c4dae69d19",
    "_uuid": "8f2839f25d086af736a60e9eeb907d3b93b6e0e5",
    "execution": {
     "iopub.execute_input": "2022-12-18T10:15:35.768593Z",
     "iopub.status.busy": "2022-12-18T10:15:35.768167Z",
     "iopub.status.idle": "2022-12-18T10:15:41.339646Z",
     "shell.execute_reply": "2022-12-18T10:15:41.338671Z"
    },
    "papermill": {
     "duration": 5.581588,
     "end_time": "2022-12-18T10:15:41.342215",
     "exception": false,
     "start_time": "2022-12-18T10:15:35.760627",
     "status": "completed"
    },
    "tags": []
   },
   "outputs": [],
   "source": [
    "import cv2\n",
    "import tensorflow as tf\n",
    "from glob import glob\n",
    "import os\n",
    "import re\n",
    "import numpy as np\n",
    "import matplotlib.pyplot as plt\n",
    "from random import randint\n",
    "from sklearn.model_selection import train_test_split\n",
    "import pandas as pd\n",
    "from PIL import Image\n",
    "\n",
    "\n",
    "PATH = \"../input/augmented-data/BUSI - Augmented Dataset\""
   ]
  },
  {
   "cell_type": "markdown",
   "id": "f6fe9e40",
   "metadata": {
    "papermill": {
     "duration": 0.004375,
     "end_time": "2022-12-18T10:15:41.351538",
     "exception": false,
     "start_time": "2022-12-18T10:15:41.347163",
     "status": "completed"
    },
    "tags": []
   },
   "source": [
    "# Segmentation"
   ]
  },
  {
   "cell_type": "code",
   "execution_count": 2,
   "id": "0a2934e3",
   "metadata": {
    "execution": {
     "iopub.execute_input": "2022-12-18T10:15:41.362397Z",
     "iopub.status.busy": "2022-12-18T10:15:41.361864Z",
     "iopub.status.idle": "2022-12-18T10:15:41.367768Z",
     "shell.execute_reply": "2022-12-18T10:15:41.366973Z"
    },
    "papermill": {
     "duration": 0.013705,
     "end_time": "2022-12-18T10:15:41.369709",
     "exception": false,
     "start_time": "2022-12-18T10:15:41.356004",
     "status": "completed"
    },
    "tags": []
   },
   "outputs": [],
   "source": [
    "# # preprocessing\n",
    "# def process_image(image, HEIGHT=256, WIDTH=256):\n",
    "#     image = image.decode(\"utf-8\")\n",
    "#     image = cv2.imread(image, cv2.IMREAD_GRAYSCALE)\n",
    "#     image = cv2.resize(image, (HEIGHT, WIDTH))\n",
    "#     image = image / 255.0\n",
    "\n",
    "#     image = image.astype(np.float32)\n",
    "#     image = np.expand_dims(image, axis=-1)\n",
    "#     return image\n",
    "\n",
    "\n",
    "# def process_mask(mask):\n",
    "#     mask = mask.astype(np.float32)\n",
    "#     mask = mask / 255\n",
    "#     mask = np.round(mask) # Rounds between 0 and 1 each pixels\n",
    "#     mask = np.expand_dims(mask, axis=-1)  # need shape to be (256,256,1)\n",
    "#     return mask\n",
    "\n",
    "# def preprocess(x, y):\n",
    "#     def f(x, y):\n",
    "#         image = process_image(x)\n",
    "#         mask = process_mask(y)\n",
    "#         return image, mask\n",
    "\n",
    "#     image, mask = tf.numpy_function(f, [x, y], [tf.float32, tf.float32])\n",
    "#     image.set_shape([256, 256, 1])\n",
    "#     mask.set_shape([256, 256, 1])\n",
    "#     return image, mask"
   ]
  },
  {
   "cell_type": "code",
   "execution_count": 3,
   "id": "4f12ae88",
   "metadata": {
    "execution": {
     "iopub.execute_input": "2022-12-18T10:15:41.380039Z",
     "iopub.status.busy": "2022-12-18T10:15:41.379755Z",
     "iopub.status.idle": "2022-12-18T10:15:41.383663Z",
     "shell.execute_reply": "2022-12-18T10:15:41.382717Z"
    },
    "papermill": {
     "duration": 0.011449,
     "end_time": "2022-12-18T10:15:41.385643",
     "exception": false,
     "start_time": "2022-12-18T10:15:41.374194",
     "status": "completed"
    },
    "tags": []
   },
   "outputs": [],
   "source": [
    "# # combine real masks where there are more masks for the same image\n",
    "# def group_masks(masks):\n",
    "#     new_masks = []\n",
    "#     index = 0\n",
    "#     for i in range(len(masks)):\n",
    "#         m = re.search(r\"mask_[0-9]\", masks[i]) # we are looking for masks that correspond to the same inputs\n",
    "#         if m:\n",
    "#             new_masks[i - (index + 1)] += cv2.resize(\n",
    "#                 cv2.imread(masks[i], cv2.IMREAD_GRAYSCALE), (256, 256)\n",
    "#             )\n",
    "#             index += 1\n",
    "#         else:\n",
    "#             new_masks.append(\n",
    "#                 cv2.resize(\n",
    "#                     cv2.imread(masks[i], cv2.IMREAD_GRAYSCALE), (256, 256)\n",
    "#                 )  # resize needed because all the images need to have the same size\n",
    "#             )\n",
    "\n",
    "#     return new_masks"
   ]
  },
  {
   "cell_type": "code",
   "execution_count": 4,
   "id": "784674ac",
   "metadata": {
    "execution": {
     "iopub.execute_input": "2022-12-18T10:15:41.396453Z",
     "iopub.status.busy": "2022-12-18T10:15:41.395609Z",
     "iopub.status.idle": "2022-12-18T10:15:41.400582Z",
     "shell.execute_reply": "2022-12-18T10:15:41.399760Z"
    },
    "papermill": {
     "duration": 0.012321,
     "end_time": "2022-12-18T10:15:41.402502",
     "exception": false,
     "start_time": "2022-12-18T10:15:41.390181",
     "status": "completed"
    },
    "tags": []
   },
   "outputs": [],
   "source": [
    "# benign_images = sorted(\n",
    "#         glob(os.path.join(PATH,\"benign/*).png\")),\n",
    "#         key=lambda x: [int(c) if c.isdigit() else c for c in re.split(r\"(\\d+)\", x)],\n",
    "#     )\n",
    "# benign_masks = group_masks(sorted(\n",
    "#         glob(os.path.join(PATH, \"benign/*mask*\")),\n",
    "#         key=lambda x: [int(c) if c.isdigit() else c for c in re.split(r\"(\\d+)\", x)],\n",
    "#     ))\n",
    "# malignant_images = sorted(\n",
    "#         glob(os.path.join(PATH,\"malignant/*).png\")),\n",
    "#         key=lambda x: [int(c) if c.isdigit() else c for c in re.split(r\"(\\d+)\", x)],\n",
    "#     )\n",
    "# malignant_masks = group_masks(sorted(\n",
    "#         glob(os.path.join(PATH, \"malignant/*mask*\")),\n",
    "#         key=lambda x: [int(c) if c.isdigit() else c for c in re.split(r\"(\\d+)\", x)],\n",
    "#     ))\n",
    "# normal_images = sorted(\n",
    "#         glob(os.path.join(PATH,\"normal/*).png\")),\n",
    "#         key=lambda x: [int(c) if c.isdigit() else c for c in re.split(r\"(\\d+)\", x)],\n",
    "#     )\n",
    "# normal_masks = group_masks(sorted(\n",
    "#         glob(os.path.join(PATH, \"normal/*mask*\")),\n",
    "#         key=lambda x: [int(c) if c.isdigit() else c for c in re.split(r\"(\\d+)\", x)],\n",
    "#     ))"
   ]
  },
  {
   "cell_type": "code",
   "execution_count": 5,
   "id": "05614625",
   "metadata": {
    "execution": {
     "iopub.execute_input": "2022-12-18T10:15:41.413153Z",
     "iopub.status.busy": "2022-12-18T10:15:41.412302Z",
     "iopub.status.idle": "2022-12-18T10:15:41.416802Z",
     "shell.execute_reply": "2022-12-18T10:15:41.415979Z"
    },
    "papermill": {
     "duration": 0.011672,
     "end_time": "2022-12-18T10:15:41.418703",
     "exception": false,
     "start_time": "2022-12-18T10:15:41.407031",
     "status": "completed"
    },
    "tags": []
   },
   "outputs": [],
   "source": [
    "# # Version 1: we just train on benign and malignant masks\n",
    "# all_images = benign_images + malignant_images\n",
    "# all_masks = benign_masks + malignant_masks\n",
    "# X_train, X_test = train_test_split(\n",
    "#         all_images,\n",
    "#         test_size=0.2,\n",
    "#         random_state=1,\n",
    "#         shuffle=True\n",
    "#     )\n",
    "# y_train, y_test = train_test_split(\n",
    "#     all_masks,\n",
    "#     test_size=0.2,\n",
    "#     random_state=1,\n",
    "#     shuffle=True\n",
    "# )\n",
    "# batch_size = 16"
   ]
  },
  {
   "cell_type": "code",
   "execution_count": 6,
   "id": "9baa728d",
   "metadata": {
    "execution": {
     "iopub.execute_input": "2022-12-18T10:15:41.429756Z",
     "iopub.status.busy": "2022-12-18T10:15:41.428269Z",
     "iopub.status.idle": "2022-12-18T10:15:41.432924Z",
     "shell.execute_reply": "2022-12-18T10:15:41.432110Z"
    },
    "papermill": {
     "duration": 0.011717,
     "end_time": "2022-12-18T10:15:41.434815",
     "exception": false,
     "start_time": "2022-12-18T10:15:41.423098",
     "status": "completed"
    },
    "tags": []
   },
   "outputs": [],
   "source": [
    "# # According to the tensorflow documentation, images converted to tf.data format are more suitable\n",
    "# # for Keras models. So, we will convert our data in tensorflow dataset format\n",
    "# train_ds = tf.data.Dataset.from_tensor_slices((X_train, y_train))\n",
    "# train_ds = train_ds.map(preprocess)\n",
    "# train_ds = train_ds.batch(batch_size)\n",
    "# test_ds = tf.data.Dataset.from_tensor_slices((X_test, y_test))\n",
    "# test_ds = test_ds.map(preprocess)\n",
    "# test_ds = test_ds.batch(batch_size)"
   ]
  },
  {
   "cell_type": "code",
   "execution_count": 7,
   "id": "cfc367ac",
   "metadata": {
    "execution": {
     "iopub.execute_input": "2022-12-18T10:15:41.445188Z",
     "iopub.status.busy": "2022-12-18T10:15:41.444908Z",
     "iopub.status.idle": "2022-12-18T10:15:41.451290Z",
     "shell.execute_reply": "2022-12-18T10:15:41.450445Z"
    },
    "papermill": {
     "duration": 0.013985,
     "end_time": "2022-12-18T10:15:41.453281",
     "exception": false,
     "start_time": "2022-12-18T10:15:41.439296",
     "status": "completed"
    },
    "tags": []
   },
   "outputs": [],
   "source": [
    "# # The unet algorithm is from HUGO GABRIELIDIS and is proven to give >90% accuracy on breast ultrasound images\n",
    "# def block_conv_down(x, dims):\n",
    "#     x = tf.keras.layers.Conv2D(\n",
    "#         dims,\n",
    "#         kernel_size=(3, 3),\n",
    "#         padding=\"same\", # it will pad evenly on the left and on the right\n",
    "#         kernel_initializer=\"he_normal\", # It draws samples from a truncated normal distribution centered \n",
    "#         # on 0 with stddev = sqrt(2 / fan_in) where fan_in is the number of input units in the weight tensor\n",
    "#         # for the weights of the layer\n",
    "#     )(x)\n",
    "#     x = tf.keras.layers.BatchNormalization()(x)\n",
    "#     x = tf.keras.layers.Activation(\"relu\")(x)\n",
    "#     x = tf.keras.layers.Conv2D(\n",
    "#         dims,\n",
    "#         kernel_size=(3, 3),\n",
    "#         padding=\"same\",\n",
    "#         kernel_initializer=\"he_normal\",\n",
    "#     )(x)\n",
    "#     x = tf.keras.layers.BatchNormalization()(x)\n",
    "#     x = tf.keras.layers.Activation(\"relu\")(x)\n",
    "#     p = tf.keras.layers.MaxPool2D((2, 2))(x)\n",
    "#     p = tf.keras.layers.Dropout(0.2)(p)\n",
    "#     return x, p\n",
    "\n",
    "# def bottleneck(x, dims):\n",
    "#     \"\"\"\n",
    "#     This is the same function but without the maxpooling and dropout.\n",
    "#     \"\"\"\n",
    "#     x = tf.keras.layers.Conv2D(\n",
    "#         dims,\n",
    "#         (3, 3),\n",
    "#         padding=\"same\",\n",
    "#         kernel_initializer=\"he_normal\",\n",
    "#     )(x)\n",
    "#     x = tf.keras.layers.BatchNormalization()(x)\n",
    "#     x = tf.keras.layers.Activation(\"relu\")(x)\n",
    "\n",
    "#     x = tf.keras.layers.Conv2D(\n",
    "#         dims,\n",
    "#         (3, 3),\n",
    "#         padding=\"same\",\n",
    "#         kernel_initializer=\"he_normal\",\n",
    "#     )(x)\n",
    "#     x = tf.keras.layers.BatchNormalization()(x)\n",
    "#     x = tf.keras.layers.Activation(\"relu\")(x)\n",
    "#     return x\n",
    "\n",
    "# def block_conv_up(x, p, dims):\n",
    "#     p = tf.keras.layers.UpSampling2D(2)(p) # The Upsampling creates a layer with no weights it doubles \n",
    "#     # the dimensions of input and so that it can be used in the generation of the model to be followed \n",
    "#     # by a traditional convolutional layer. \n",
    "#     u = tf.keras.layers.Concatenate(axis=-1)([p, x]) # It takes as input a list of tensors, all of the \n",
    "#     # same shape except for the concatenation axis, and returns a single tensor that is the concatenation \n",
    "#     # of all inputs.\n",
    "\n",
    "#     u = tf.keras.layers.Conv2D(\n",
    "#         dims,\n",
    "#         (3, 3),\n",
    "#         padding=\"same\",\n",
    "#         kernel_initializer=\"he_normal\",\n",
    "#     )(u)\n",
    "#     u = tf.keras.layers.BatchNormalization()(u) # Layer that normalizes its inputs.\n",
    "#     u = tf.keras.layers.Activation(\"relu\")(u)\n",
    "#     u = tf.keras.layers.Dropout(0.1)(u)\n",
    "\n",
    "#     u = tf.keras.layers.Conv2D(\n",
    "#         dims,\n",
    "#         (3, 3),\n",
    "#         padding=\"same\",\n",
    "#         kernel_initializer=\"he_normal\",\n",
    "#     )(u)\n",
    "#     u = tf.keras.layers.BatchNormalization()(u)\n",
    "#     u = tf.keras.layers.Activation(\"relu\")(u)\n",
    "#     u = tf.keras.layers.Dropout(0.1)(u)\n",
    "#     return u\n",
    "\n",
    "# def UNET(input_shape):\n",
    "#     input = tf.keras.layers.Input(shape=input_shape)\n",
    "    \n",
    "#     # first the image is \"reduced\" by maxpooling and is activated using relu\n",
    "#     x1, p1 = block_conv_down(input, 64)\n",
    "#     # print(f\" x1 shape : {x1.shape}\")\n",
    "#     x2, p2 = block_conv_down(p1, 128)\n",
    "#     # print(f\" x2 shape : {x2.shape}\")\n",
    "#     x3, p3 = block_conv_down(p2, 256)\n",
    "#     # print(f\" x3 shape : {x3.shape}\")\n",
    "#     x4, p4 = block_conv_down(p3, 512)\n",
    "#     # print(f\" x4 shape : {x4.shape}\")\n",
    "\n",
    "#     # next another activation without maxpool and then the image is redoubled\n",
    "#     p5 = bottleneck(p4, 1024)\n",
    "#     # print(f\" p5 shape : {p5.shape}\")\n",
    "#     p6 = block_conv_up(x4, p5, 512)\n",
    "#     # print(f\" p6 shape : {p6.shape}\")\n",
    "#     p7 = block_conv_up(x3, p6, 256)\n",
    "#     # print(f\" p7 shape : {p7.shape}\")\n",
    "#     p8 = block_conv_up(x2, p7, 128)\n",
    "#     # print(f\" p8 shape : {p8.shape}\")\n",
    "#     p9 = block_conv_up(x1, p8, 64)\n",
    "#     # print(f\" p9 shape : {p9.shape}\")\n",
    "\n",
    "#     output = tf.keras.layers.Conv2D(1, (1, 1), activation=\"sigmoid\")(p9)\n",
    "#     # output = tf.keras.layers.Conv2D(2,(1,1), activation = \"softmax\")\n",
    "#     model = tf.keras.Model(inputs=input, outputs=output)\n",
    "\n",
    "#     return model"
   ]
  },
  {
   "cell_type": "code",
   "execution_count": 8,
   "id": "a3b2a3d4",
   "metadata": {
    "execution": {
     "iopub.execute_input": "2022-12-18T10:15:41.463154Z",
     "iopub.status.busy": "2022-12-18T10:15:41.462875Z",
     "iopub.status.idle": "2022-12-18T10:15:41.466956Z",
     "shell.execute_reply": "2022-12-18T10:15:41.466016Z"
    },
    "papermill": {
     "duration": 0.011249,
     "end_time": "2022-12-18T10:15:41.468895",
     "exception": false,
     "start_time": "2022-12-18T10:15:41.457646",
     "status": "completed"
    },
    "tags": []
   },
   "outputs": [],
   "source": [
    "# # Train the model\n",
    "# model = UNET((256, 256, 1))\n",
    "        \n",
    "# model.compile(\n",
    "#     optimizer=tf.keras.optimizers.Adam(learning_rate=3e-3),\n",
    "#     loss=\"binary_crossentropy\",\n",
    "#     metrics=[\"accuracy\"],\n",
    "# )\n",
    "# model.fit(\n",
    "#         train_ds,\n",
    "#         validation_data=test_ds,\n",
    "#         epochs=50,\n",
    "#         steps_per_epoch=len(train_ds),\n",
    "#         )"
   ]
  },
  {
   "cell_type": "code",
   "execution_count": 9,
   "id": "3396fa9f",
   "metadata": {
    "execution": {
     "iopub.execute_input": "2022-12-18T10:15:41.480001Z",
     "iopub.status.busy": "2022-12-18T10:15:41.478622Z",
     "iopub.status.idle": "2022-12-18T10:15:41.483320Z",
     "shell.execute_reply": "2022-12-18T10:15:41.482366Z"
    },
    "papermill": {
     "duration": 0.011972,
     "end_time": "2022-12-18T10:15:41.485354",
     "exception": false,
     "start_time": "2022-12-18T10:15:41.473382",
     "status": "completed"
    },
    "tags": []
   },
   "outputs": [],
   "source": [
    "# history=model.history\n",
    "# # summarize history for accuracy\n",
    "# plt.plot(history.history['accuracy'])\n",
    "# plt.plot(history.history['val_accuracy'])\n",
    "# plt.title('model accuracy')\n",
    "# plt.ylabel('accuracy')\n",
    "# plt.xlabel('epoch')\n",
    "# plt.legend(['Train', 'Validation'], loc='upper left')\n",
    "# plt.show()\n",
    "# # summarize history for loss\n",
    "# plt.plot(history.history['loss'])\n",
    "# plt.plot(history.history['val_loss'])\n",
    "# plt.title('model loss')\n",
    "# plt.ylabel('loss')\n",
    "# plt.xlabel('epoch')\n",
    "# plt.legend(['Train', 'Validation'], loc='upper left')\n",
    "# plt.show()"
   ]
  },
  {
   "cell_type": "code",
   "execution_count": 10,
   "id": "b9b4e6f8",
   "metadata": {
    "execution": {
     "iopub.execute_input": "2022-12-18T10:15:41.496158Z",
     "iopub.status.busy": "2022-12-18T10:15:41.495557Z",
     "iopub.status.idle": "2022-12-18T10:15:41.499719Z",
     "shell.execute_reply": "2022-12-18T10:15:41.498877Z"
    },
    "papermill": {
     "duration": 0.011882,
     "end_time": "2022-12-18T10:15:41.501694",
     "exception": false,
     "start_time": "2022-12-18T10:15:41.489812",
     "status": "completed"
    },
    "tags": []
   },
   "outputs": [],
   "source": [
    "# results = model.evaluate(test_ds, batch_size=16)\n",
    "# print(\"test loss, test acc:\", results)"
   ]
  },
  {
   "cell_type": "code",
   "execution_count": 11,
   "id": "dfc13219",
   "metadata": {
    "execution": {
     "iopub.execute_input": "2022-12-18T10:15:41.512313Z",
     "iopub.status.busy": "2022-12-18T10:15:41.511542Z",
     "iopub.status.idle": "2022-12-18T10:15:41.515781Z",
     "shell.execute_reply": "2022-12-18T10:15:41.514989Z"
    },
    "papermill": {
     "duration": 0.011643,
     "end_time": "2022-12-18T10:15:41.517799",
     "exception": false,
     "start_time": "2022-12-18T10:15:41.506156",
     "status": "completed"
    },
    "tags": []
   },
   "outputs": [],
   "source": [
    "# converter = tf.lite.TFLiteConverter.from_keras_model(model)\n",
    "# converter.optimizations = [tf.lite.Optimize.DEFAULT]\n",
    "# tflite_model = converter.convert()\n",
    "\n",
    "# with open(\"/kaggle/working/masks.tflite\", 'wb') as f:\n",
    "#   f.write(tflite_model)"
   ]
  },
  {
   "cell_type": "code",
   "execution_count": 12,
   "id": "fe6644e0",
   "metadata": {
    "execution": {
     "iopub.execute_input": "2022-12-18T10:15:41.528624Z",
     "iopub.status.busy": "2022-12-18T10:15:41.527821Z",
     "iopub.status.idle": "2022-12-18T10:15:41.532753Z",
     "shell.execute_reply": "2022-12-18T10:15:41.531862Z"
    },
    "papermill": {
     "duration": 0.012374,
     "end_time": "2022-12-18T10:15:41.534747",
     "exception": false,
     "start_time": "2022-12-18T10:15:41.522373",
     "status": "completed"
    },
    "tags": []
   },
   "outputs": [],
   "source": [
    "# all_ds = train_ds.concatenate(test_ds)\n",
    "# #preds = model.predict(all_ds, batch_size=16)\n",
    "# #print(len(preds))\n",
    "# original_images = list(all_ds.map(lambda x, y: y*255))\n",
    "# images_to_mask = list(all_ds.map(lambda x, y: x*255))\n",
    "# for i in range(10):\n",
    "#     pred = model.predict(images_to_mask[i])\n",
    "#     im_predicted = Image.fromarray(np.squeeze((pred * 255).astype(np.uint8)[0], axis=2))\n",
    "#     plt.imshow(im_predicted)\n",
    "#     plt.show()\n",
    "#     im_true = Image.fromarray(np.squeeze(np.array(original_images[i]).astype(np.uint8)[0], axis=2))\n",
    "#     plt.imshow(im_true)\n",
    "#     plt.show()\n",
    "# # for i in range(10):\n",
    "# #     im_predicted = Image.fromarray(np.squeeze((preds[i] * 255).astype(np.uint8), axis=2))\n",
    "# #     plt.imshow(im_predicted)\n",
    "# #     plt.show()\n",
    "# #     im_true = Image.fromarray(np.squeeze(np.array(original_images[i]).astype(np.uint8)[0], axis=2))\n",
    "# #     plt.imshow(im_true)\n",
    "# #     plt.show()"
   ]
  },
  {
   "cell_type": "markdown",
   "id": "7baaa2c0",
   "metadata": {
    "papermill": {
     "duration": 0.004237,
     "end_time": "2022-12-18T10:15:41.543587",
     "exception": false,
     "start_time": "2022-12-18T10:15:41.539350",
     "status": "completed"
    },
    "tags": []
   },
   "source": [
    "# Classification"
   ]
  },
  {
   "cell_type": "code",
   "execution_count": 13,
   "id": "6c54018d",
   "metadata": {
    "execution": {
     "iopub.execute_input": "2022-12-18T10:15:41.554938Z",
     "iopub.status.busy": "2022-12-18T10:15:41.554204Z",
     "iopub.status.idle": "2022-12-18T10:15:42.248884Z",
     "shell.execute_reply": "2022-12-18T10:15:42.247843Z"
    },
    "papermill": {
     "duration": 0.703574,
     "end_time": "2022-12-18T10:15:42.251671",
     "exception": false,
     "start_time": "2022-12-18T10:15:41.548097",
     "status": "completed"
    },
    "tags": []
   },
   "outputs": [],
   "source": [
    "import tensorflow as tf\n",
    "import keras\n",
    "from keras.preprocessing.image import ImageDataGenerator\n",
    "import matplotlib.pyplot as plt\n",
    "from keras.layers import Input\n",
    "from keras.utils.vis_utils import plot_model\n",
    "import os, shutil\n",
    "# PATH = \"../input/augmented-busi/BUSI - Augmented Dataset\""
   ]
  },
  {
   "cell_type": "code",
   "execution_count": 14,
   "id": "0b068336",
   "metadata": {
    "execution": {
     "iopub.execute_input": "2022-12-18T10:15:42.264131Z",
     "iopub.status.busy": "2022-12-18T10:15:42.263394Z",
     "iopub.status.idle": "2022-12-18T10:15:42.270001Z",
     "shell.execute_reply": "2022-12-18T10:15:42.269182Z"
    },
    "papermill": {
     "duration": 0.015418,
     "end_time": "2022-12-18T10:15:42.272346",
     "exception": false,
     "start_time": "2022-12-18T10:15:42.256928",
     "status": "completed"
    },
    "tags": []
   },
   "outputs": [],
   "source": [
    "os.mkdir('/kaggle/working/masks')\n",
    "os.mkdir('/kaggle/working/masks/benign')\n",
    "os.mkdir('/kaggle/working/masks/malignant')\n",
    "os.mkdir('/kaggle/working/masks/normal')"
   ]
  },
  {
   "cell_type": "code",
   "execution_count": 15,
   "id": "04193cbb",
   "metadata": {
    "execution": {
     "iopub.execute_input": "2022-12-18T10:15:42.282857Z",
     "iopub.status.busy": "2022-12-18T10:15:42.282579Z",
     "iopub.status.idle": "2022-12-18T10:15:45.171277Z",
     "shell.execute_reply": "2022-12-18T10:15:45.170290Z"
    },
    "papermill": {
     "duration": 2.896596,
     "end_time": "2022-12-18T10:15:45.173614",
     "exception": false,
     "start_time": "2022-12-18T10:15:42.277018",
     "status": "completed"
    },
    "tags": []
   },
   "outputs": [],
   "source": [
    "# move only masks to another folder\n",
    "directory = os.path.join(PATH,\"benign/\")\n",
    "for filename in os.listdir(directory):\n",
    "    #print(filename)\n",
    "    if \"mask\" in filename: \n",
    "         #print(filename)\n",
    "         shutil.copy2(os.path.join(PATH,f\"benign/{filename}\"), f\"/kaggle/working/masks/benign/{filename}\")"
   ]
  },
  {
   "cell_type": "code",
   "execution_count": 16,
   "id": "d0b3cba5",
   "metadata": {
    "execution": {
     "iopub.execute_input": "2022-12-18T10:15:45.184217Z",
     "iopub.status.busy": "2022-12-18T10:15:45.183900Z",
     "iopub.status.idle": "2022-12-18T10:15:47.841567Z",
     "shell.execute_reply": "2022-12-18T10:15:47.840584Z"
    },
    "papermill": {
     "duration": 2.665993,
     "end_time": "2022-12-18T10:15:47.844343",
     "exception": false,
     "start_time": "2022-12-18T10:15:45.178350",
     "status": "completed"
    },
    "tags": []
   },
   "outputs": [],
   "source": [
    "directory = os.path.join(PATH,\"malignant/\")\n",
    "for filename in os.listdir(directory):\n",
    "    #print(filename)\n",
    "    if \"mask\" in filename: \n",
    "         #print(filename)\n",
    "         shutil.copy2(os.path.join(PATH,f\"malignant/{filename}\"), f\"/kaggle/working/masks/malignant/{filename}\")"
   ]
  },
  {
   "cell_type": "code",
   "execution_count": 17,
   "id": "66a5aee5",
   "metadata": {
    "execution": {
     "iopub.execute_input": "2022-12-18T10:15:47.854804Z",
     "iopub.status.busy": "2022-12-18T10:15:47.854518Z",
     "iopub.status.idle": "2022-12-18T10:15:50.534335Z",
     "shell.execute_reply": "2022-12-18T10:15:50.533380Z"
    },
    "papermill": {
     "duration": 2.687611,
     "end_time": "2022-12-18T10:15:50.536715",
     "exception": false,
     "start_time": "2022-12-18T10:15:47.849104",
     "status": "completed"
    },
    "tags": []
   },
   "outputs": [],
   "source": [
    "directory = os.path.join(PATH,\"normal/\")\n",
    "for filename in os.listdir(directory):\n",
    "    #print(filename)\n",
    "    if \"mask\" in filename: \n",
    "         #print(filename)\n",
    "         shutil.copy2(os.path.join(PATH,f\"normal/{filename}\"), f\"/kaggle/working/masks/normal/{filename}\")"
   ]
  },
  {
   "cell_type": "code",
   "execution_count": 18,
   "id": "3a3b389e",
   "metadata": {
    "execution": {
     "iopub.execute_input": "2022-12-18T10:15:50.547912Z",
     "iopub.status.busy": "2022-12-18T10:15:50.547623Z",
     "iopub.status.idle": "2022-12-18T10:18:34.525611Z",
     "shell.execute_reply": "2022-12-18T10:18:34.524703Z"
    },
    "papermill": {
     "duration": 163.986263,
     "end_time": "2022-12-18T10:18:34.527721",
     "exception": false,
     "start_time": "2022-12-18T10:15:50.541458",
     "status": "completed"
    },
    "tags": []
   },
   "outputs": [
    {
     "name": "stderr",
     "output_type": "stream",
     "text": [
      "2022-12-18 10:15:50.932342: I tensorflow/stream_executor/cuda/cuda_gpu_executor.cc:937] successful NUMA node read from SysFS had negative value (-1), but there must be at least one NUMA node, so returning NUMA node zero\n",
      "2022-12-18 10:15:51.045040: I tensorflow/stream_executor/cuda/cuda_gpu_executor.cc:937] successful NUMA node read from SysFS had negative value (-1), but there must be at least one NUMA node, so returning NUMA node zero\n",
      "2022-12-18 10:15:51.045811: I tensorflow/stream_executor/cuda/cuda_gpu_executor.cc:937] successful NUMA node read from SysFS had negative value (-1), but there must be at least one NUMA node, so returning NUMA node zero\n",
      "2022-12-18 10:15:51.048078: I tensorflow/core/platform/cpu_feature_guard.cc:142] This TensorFlow binary is optimized with oneAPI Deep Neural Network Library (oneDNN) to use the following CPU instructions in performance-critical operations:  AVX2 AVX512F FMA\n",
      "To enable them in other operations, rebuild TensorFlow with the appropriate compiler flags.\n",
      "2022-12-18 10:15:51.052013: I tensorflow/stream_executor/cuda/cuda_gpu_executor.cc:937] successful NUMA node read from SysFS had negative value (-1), but there must be at least one NUMA node, so returning NUMA node zero\n",
      "2022-12-18 10:15:51.052742: I tensorflow/stream_executor/cuda/cuda_gpu_executor.cc:937] successful NUMA node read from SysFS had negative value (-1), but there must be at least one NUMA node, so returning NUMA node zero\n",
      "2022-12-18 10:15:51.053497: I tensorflow/stream_executor/cuda/cuda_gpu_executor.cc:937] successful NUMA node read from SysFS had negative value (-1), but there must be at least one NUMA node, so returning NUMA node zero\n",
      "2022-12-18 10:15:53.307315: I tensorflow/stream_executor/cuda/cuda_gpu_executor.cc:937] successful NUMA node read from SysFS had negative value (-1), but there must be at least one NUMA node, so returning NUMA node zero\n",
      "2022-12-18 10:15:53.308246: I tensorflow/stream_executor/cuda/cuda_gpu_executor.cc:937] successful NUMA node read from SysFS had negative value (-1), but there must be at least one NUMA node, so returning NUMA node zero\n",
      "2022-12-18 10:15:53.309009: I tensorflow/stream_executor/cuda/cuda_gpu_executor.cc:937] successful NUMA node read from SysFS had negative value (-1), but there must be at least one NUMA node, so returning NUMA node zero\n",
      "2022-12-18 10:15:53.309657: I tensorflow/core/common_runtime/gpu/gpu_device.cc:1510] Created device /job:localhost/replica:0/task:0/device:GPU:0 with 15401 MB memory:  -> device: 0, name: Tesla P100-PCIE-16GB, pci bus id: 0000:00:04.0, compute capability: 6.0\n"
     ]
    },
    {
     "name": "stdout",
     "output_type": "stream",
     "text": [
      "Found 2256 images belonging to 3 classes.\n",
      "Found 752 images belonging to 3 classes.\n"
     ]
    },
    {
     "name": "stderr",
     "output_type": "stream",
     "text": [
      "/opt/conda/lib/python3.7/site-packages/keras/engine/training.py:1972: UserWarning: `Model.fit_generator` is deprecated and will be removed in a future version. Please use `Model.fit`, which supports generators.\n",
      "  warnings.warn('`Model.fit_generator` is deprecated and '\n",
      "2022-12-18 10:15:54.206673: I tensorflow/compiler/mlir/mlir_graph_optimization_pass.cc:185] None of the MLIR Optimization Passes are enabled (registered 2)\n"
     ]
    },
    {
     "name": "stdout",
     "output_type": "stream",
     "text": [
      "Epoch 1/32\n"
     ]
    },
    {
     "name": "stderr",
     "output_type": "stream",
     "text": [
      "2022-12-18 10:15:55.859497: I tensorflow/stream_executor/cuda/cuda_dnn.cc:369] Loaded cuDNN version 8005\n"
     ]
    },
    {
     "name": "stdout",
     "output_type": "stream",
     "text": [
      "18/18 [==============================] - 12s 232ms/step - loss: 1.7539 - acc: 0.6128 - val_loss: 0.9016 - val_acc: 0.7500\n",
      "Epoch 2/32\n",
      "18/18 [==============================] - 4s 220ms/step - loss: 0.7730 - acc: 0.8368 - val_loss: 0.6821 - val_acc: 0.8854\n",
      "Epoch 3/32\n",
      "18/18 [==============================] - 4s 230ms/step - loss: 0.4558 - acc: 0.8559 - val_loss: 0.4136 - val_acc: 0.8333\n",
      "Epoch 4/32\n",
      "18/18 [==============================] - 4s 224ms/step - loss: 0.3119 - acc: 0.8821 - val_loss: 0.4318 - val_acc: 0.8542\n",
      "Epoch 5/32\n",
      "18/18 [==============================] - 4s 230ms/step - loss: 0.2609 - acc: 0.9179 - val_loss: 0.5020 - val_acc: 0.8229\n",
      "Epoch 6/32\n",
      "18/18 [==============================] - 4s 217ms/step - loss: 0.2321 - acc: 0.9201 - val_loss: 0.5571 - val_acc: 0.8542\n",
      "Epoch 7/32\n",
      "18/18 [==============================] - 4s 213ms/step - loss: 0.2381 - acc: 0.9196 - val_loss: 0.6208 - val_acc: 0.8125\n",
      "Epoch 8/32\n",
      "18/18 [==============================] - 4s 230ms/step - loss: 0.1675 - acc: 0.9566 - val_loss: 0.4336 - val_acc: 0.8333\n",
      "Epoch 9/32\n",
      "18/18 [==============================] - 4s 216ms/step - loss: 0.1665 - acc: 0.9497 - val_loss: 0.3414 - val_acc: 0.8958\n",
      "Epoch 10/32\n",
      "18/18 [==============================] - 4s 229ms/step - loss: 0.1975 - acc: 0.9566 - val_loss: 0.3969 - val_acc: 0.8958\n",
      "Epoch 11/32\n",
      "18/18 [==============================] - 4s 220ms/step - loss: 0.1132 - acc: 0.9722 - val_loss: 0.4638 - val_acc: 0.8542\n",
      "Epoch 12/32\n",
      "18/18 [==============================] - 4s 240ms/step - loss: 0.1215 - acc: 0.9635 - val_loss: 0.4394 - val_acc: 0.8750\n",
      "Epoch 13/32\n",
      "18/18 [==============================] - 4s 230ms/step - loss: 0.1280 - acc: 0.9670 - val_loss: 0.4541 - val_acc: 0.8646\n",
      "Epoch 14/32\n",
      "18/18 [==============================] - 4s 216ms/step - loss: 0.1144 - acc: 0.9757 - val_loss: 0.2742 - val_acc: 0.8854\n",
      "Epoch 15/32\n",
      "18/18 [==============================] - 4s 233ms/step - loss: 0.1116 - acc: 0.9722 - val_loss: 1.0675 - val_acc: 0.8229\n",
      "Epoch 16/32\n",
      "18/18 [==============================] - 4s 219ms/step - loss: 0.0916 - acc: 0.9774 - val_loss: 0.7161 - val_acc: 0.8229\n",
      "Epoch 17/32\n",
      "18/18 [==============================] - 4s 221ms/step - loss: 0.0812 - acc: 0.9809 - val_loss: 0.7423 - val_acc: 0.8333\n",
      "Epoch 18/32\n",
      "18/18 [==============================] - 4s 228ms/step - loss: 0.0882 - acc: 0.9809 - val_loss: 0.8755 - val_acc: 0.8333\n",
      "Epoch 19/32\n",
      "18/18 [==============================] - 4s 231ms/step - loss: 0.0842 - acc: 0.9844 - val_loss: 0.6492 - val_acc: 0.8542\n",
      "Epoch 20/32\n",
      "18/18 [==============================] - 4s 235ms/step - loss: 0.0904 - acc: 0.9809 - val_loss: 1.0198 - val_acc: 0.8125\n",
      "Epoch 21/32\n",
      "18/18 [==============================] - 4s 222ms/step - loss: 0.0839 - acc: 0.9809 - val_loss: 1.2399 - val_acc: 0.8021\n",
      "Epoch 22/32\n",
      "18/18 [==============================] - 4s 229ms/step - loss: 0.0793 - acc: 0.9809 - val_loss: 0.7077 - val_acc: 0.8646\n",
      "Epoch 23/32\n",
      "18/18 [==============================] - 4s 220ms/step - loss: 0.0774 - acc: 0.9844 - val_loss: 0.4157 - val_acc: 0.8854\n",
      "Epoch 24/32\n",
      "18/18 [==============================] - 4s 219ms/step - loss: 0.0778 - acc: 0.9826 - val_loss: 0.8567 - val_acc: 0.8646\n",
      "Epoch 25/32\n",
      "18/18 [==============================] - 4s 220ms/step - loss: 0.0612 - acc: 0.9875 - val_loss: 1.3322 - val_acc: 0.8125\n",
      "Epoch 26/32\n",
      "18/18 [==============================] - 4s 222ms/step - loss: 0.1377 - acc: 0.9696 - val_loss: 0.5427 - val_acc: 0.9062\n",
      "Epoch 27/32\n",
      "18/18 [==============================] - 4s 234ms/step - loss: 0.0791 - acc: 0.9844 - val_loss: 0.5659 - val_acc: 0.8646\n",
      "Epoch 28/32\n",
      "18/18 [==============================] - 4s 224ms/step - loss: 0.1356 - acc: 0.9670 - val_loss: 0.4847 - val_acc: 0.8438\n",
      "Epoch 29/32\n",
      "18/18 [==============================] - 4s 221ms/step - loss: 0.0887 - acc: 0.9792 - val_loss: 0.5664 - val_acc: 0.8229\n",
      "Epoch 30/32\n",
      "18/18 [==============================] - 4s 214ms/step - loss: 0.0834 - acc: 0.9804 - val_loss: 0.6204 - val_acc: 0.8021\n",
      "Epoch 31/32\n",
      "18/18 [==============================] - 4s 221ms/step - loss: 0.0851 - acc: 0.9809 - val_loss: 0.6542 - val_acc: 0.8542\n",
      "Epoch 32/32\n",
      "18/18 [==============================] - 4s 230ms/step - loss: 0.0737 - acc: 0.9896 - val_loss: 0.5700 - val_acc: 0.8750\n"
     ]
    },
    {
     "data": {
      "image/png": "[encoded data removed]",
      "text/plain": [
       "<Figure size 576x576 with 2 Axes>"
      ]
     },
     "metadata": {
      "needs_background": "light"
     },
     "output_type": "display_data"
    }
   ],
   "source": [
    "#def train_validate_v1(batch_size, epochs, steps_train, steps_val):\n",
    "batch_size = 32\n",
    "epochs = 32\n",
    "steps_train = 18\n",
    "steps_val = 3\n",
    "# Defines & compiles the model\n",
    "model = tf.keras.models.Sequential([\n",
    "    tf.keras.layers.Conv2D(16, (3,3), activation='relu', input_shape=(400, 400, 3)),\n",
    "tf.keras.layers.MaxPooling2D(2, 2),\n",
    "keras.layers.Dropout(rate=0.15), #adding dropout regularization throughout the model to deal with overfitting\n",
    "# The second convolution\n",
    "tf.keras.layers.Conv2D(32, (3,3), activation='relu'),\n",
    "tf.keras.layers.MaxPooling2D(2,2),\n",
    "keras.layers.Dropout(rate=0.1),\n",
    "# The third convolution\n",
    "tf.keras.layers.Conv2D(64, (3,3), activation='relu'),\n",
    "tf.keras.layers.MaxPooling2D(2,2),\n",
    "keras.layers.Dropout(rate=0.10),\n",
    "# Flatten the results to feed into a DNN\n",
    "tf.keras.layers.Flatten(),\n",
    "# 512 neuron hidden layer\n",
    "tf.keras.layers.Dense(512, activation='relu'),\n",
    "\n",
    "# 3 output neuron for the 3 classes of Animal Images\n",
    "tf.keras.layers.Dense(3, activation='softmax')\n",
    "])\n",
    "\n",
    "model.compile(loss='categorical_crossentropy',\n",
    "          optimizer=\"adam\",\n",
    "          metrics=['acc'])\n",
    "\n",
    "# Creates an instance of an ImageDataGenerator called train_datagen, and a train_generator, train_datagen.flow_from_directory\n",
    "#splits data into training and testing(validation) sets\n",
    "train_datagen =ImageDataGenerator(rescale=1./255, validation_split=0.25)\n",
    "\n",
    "#training data\n",
    "train_generator = train_datagen.flow_from_directory(\n",
    "    '/kaggle/working/masks/',  # Source directory\n",
    "    target_size=(400, 400),  # Resizes images\n",
    "    batch_size=batch_size,\n",
    "    class_mode='categorical',subset = 'training')\n",
    "\n",
    "epochs = epochs\n",
    "#Testing data\n",
    "validation_generator = train_datagen.flow_from_directory(\n",
    "'/kaggle/working/masks/',\n",
    "target_size=(400, 400),\n",
    "batch_size=batch_size,\n",
    "class_mode='categorical',\n",
    "subset='validation') # set as validation data\n",
    "\n",
    "#Model fitting for a number of epochs\n",
    "history = model.fit_generator(\n",
    "  train_generator,\n",
    "  steps_per_epoch=steps_train,\n",
    "  epochs=epochs,\n",
    "  validation_data = validation_generator,\n",
    "  validation_steps = steps_val,\n",
    "  verbose=1)\n",
    "\n",
    "acc = history.history['acc']\n",
    "val_acc = history.history['val_acc']\n",
    "\n",
    "loss = history.history['loss']\n",
    "val_loss = history.history['val_loss']\n",
    "\n",
    "#This code is used to plot the training and validation accuracy\n",
    "epochs_range = range(epochs)\n",
    "\n",
    "plt.figure(figsize=(8, 8))\n",
    "plt.subplot(1, 2, 1)\n",
    "plt.plot(epochs_range, acc, label='Training Accuracy')\n",
    "plt.plot(epochs_range, val_acc, label='Validation Accuracy')\n",
    "plt.legend(loc='lower right')\n",
    "\n",
    "plt.subplot(1, 2, 2)\n",
    "plt.plot(epochs_range, loss, label='Training Loss')\n",
    "plt.plot(epochs_range, val_loss, label='Validation Loss')\n",
    "plt.legend(loc='upper right')\n",
    "plt.show()\n",
    "\n",
    "# returns accuracy of training\n",
    "# print(\"Training Accuracy:\"), print(history.history['acc'][-1])\n",
    "# print(\"Testing Accuracy:\"), print (history.history['val_acc'][-1])\n",
    "# #     converter = tf.lite.TFLiteConverter.from_keras_model(model)\n",
    "# #     converter.optimizations = [tf.lite.Optimize.DEFAULT]\n",
    "# #     tflite_model = converter.convert\n",
    "# model.save(\"model_augmentat_clasificare.h5\")\n",
    "# history=model.history\n",
    "# # summarize history for accuracy\n",
    "# plt.plot(history.history['accuracy'])\n",
    "# plt.plot(history.history['val_accuracy'])\n",
    "# plt.title('model accuracy')\n",
    "# plt.ylabel('accuracy')\n",
    "# plt.xlabel('epoch')\n",
    "# plt.legend(['Train', 'Validation'], loc='upper left')\n",
    "# plt.show()\n",
    "# # summarize history for loss\n",
    "# plt.plot(history.history['loss'])\n",
    "# plt.plot(history.history['val_loss'])\n",
    "# plt.title('model loss')\n",
    "# plt.ylabel('loss')\n",
    "# plt.xlabel('epoch')\n",
    "# plt.legend(['Train', 'Validation'], loc='upper left')\n",
    "# plt.show()"
   ]
  },
  {
   "cell_type": "code",
   "execution_count": 19,
   "id": "a4b1ecad",
   "metadata": {
    "execution": {
     "iopub.execute_input": "2022-12-18T10:18:34.605461Z",
     "iopub.status.busy": "2022-12-18T10:18:34.605166Z",
     "iopub.status.idle": "2022-12-18T10:18:34.610598Z",
     "shell.execute_reply": "2022-12-18T10:18:34.609755Z"
    },
    "papermill": {
     "duration": 0.047042,
     "end_time": "2022-12-18T10:18:34.612811",
     "exception": false,
     "start_time": "2022-12-18T10:18:34.565769",
     "status": "completed"
    },
    "tags": []
   },
   "outputs": [],
   "source": [
    "# train_validate_v1(32, 32, 18, 3)"
   ]
  }
 ],
 "metadata": {
  "kernelspec": {
   "display_name": "Python 3",
   "language": "python",
   "name": "python3"
  },
  "language_info": {
   "codemirror_mode": {
    "name": "ipython",
    "version": 3
   },
   "file_extension": ".py",
   "mimetype": "text/x-python",
   "name": "python",
   "nbconvert_exporter": "python",
   "pygments_lexer": "ipython3",
   "version": "3.7.12"
  },
  "papermill": {
   "default_parameters": {},
   "duration": 190.701288,
   "end_time": "2022-12-18T10:18:38.357258",
   "environment_variables": {},
   "exception": null,
   "input_path": "__notebook__.ipynb",
   "output_path": "__notebook__.ipynb",
   "parameters": {},
   "start_time": "2022-12-18T10:15:27.655970",
   "version": "2.3.4"
  }
 },
 "nbformat": 4,
 "nbformat_minor": 5
}
